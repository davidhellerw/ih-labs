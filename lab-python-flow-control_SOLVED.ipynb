{
 "cells": [
  {
   "cell_type": "markdown",
   "id": "d3bfc191-8885-42ee-b0a0-bbab867c6f9f",
   "metadata": {
    "tags": []
   },
   "source": [
    "# Lab | Flow Control"
   ]
  },
  {
   "cell_type": "markdown",
   "id": "3851fcd1-cf98-4653-9c89-e003b7ec9400",
   "metadata": {},
   "source": [
    "## Exercise: Managing Customer Orders Optimized\n",
    "\n",
    "In the last lab, you were starting an online store that sells various products. To ensure smooth operations, you developed a program that manages customer orders and inventory.\n",
    "\n",
    "You did so without using flow control. Let's go a step further and improve this code.\n",
    "\n",
    "Follow the steps below to complete the exercise:\n",
    "\n",
    "1. Look at your code from the lab data structures, and improve repeated code with loops.\n",
    "\n",
    "2. Instead of asking the user to input the name of three products that a customer wants to order, do the following:\n",
    "    \n",
    "    a. Prompt the user to enter the name of a product that a customer wants to order.\n",
    "    \n",
    "    b. Add the product name to the \"customer_orders\" set.\n",
    "    \n",
    "    c. Ask the user if they want to add another product (yes/no).\n",
    "    \n",
    "    d. Continue the loop until the user does not want to add another product.\n",
    "\n",
    "3. Instead of updating the inventory by subtracting 1 from the quantity of each product, only do it for  the products that were ordered (those in \"customer_orders\")."
   ]
  },
  {
   "cell_type": "code",
   "execution_count": 2,
   "id": "6e1ce4b5",
   "metadata": {},
   "outputs": [],
   "source": [
    "products = [\"t-shirt\", \"mug\", \"hat\", \"book\", \"keychain\"]"
   ]
  },
  {
   "cell_type": "code",
   "execution_count": 3,
   "id": "a9816b22",
   "metadata": {},
   "outputs": [],
   "source": [
    "inventory = {}"
   ]
  },
  {
   "cell_type": "code",
   "execution_count": 8,
   "id": "3ca4ef6b",
   "metadata": {},
   "outputs": [
    {
     "name": "stdout",
     "output_type": "stream",
     "text": [
      " Enter the number of t-shirts 50\n",
      " Enter the number of mugs 50\n",
      " Enter the number of hats 50\n",
      " Enter the number of books 50\n",
      " Enter the number of keychains 50\n"
     ]
    }
   ],
   "source": [
    "for product in products:\n",
    "    inventory[product]=int(input(f\" Enter the number of {product}s \"))"
   ]
  },
  {
   "cell_type": "code",
   "execution_count": 16,
   "id": "72181446",
   "metadata": {},
   "outputs": [],
   "source": [
    "customer_orders = set()"
   ]
  },
  {
   "cell_type": "code",
   "execution_count": 17,
   "id": "774bca0c",
   "metadata": {},
   "outputs": [
    {
     "name": "stdout",
     "output_type": "stream",
     "text": [
      "Enter the three products you want to order. Product 1: mug\n",
      "Enter the three products you want to order. Product 2: keychain\n",
      "Enter the three products you want to order. Product 3: book\n"
     ]
    }
   ],
   "source": [
    "for i in range(1,4):\n",
    "    customer_orders.add(input(f\"Enter the three products you want to order. Product {i}: \"))"
   ]
  },
  {
   "cell_type": "code",
   "execution_count": 19,
   "id": "dffb3d08",
   "metadata": {},
   "outputs": [
    {
     "data": {
      "text/plain": [
       "{'book', 'keychain', 'mug'}"
      ]
     },
     "execution_count": 19,
     "metadata": {},
     "output_type": "execute_result"
    }
   ],
   "source": [
    "customer_orders"
   ]
  },
  {
   "cell_type": "code",
   "execution_count": 21,
   "id": "cc81bd2f",
   "metadata": {},
   "outputs": [
    {
     "name": "stdout",
     "output_type": "stream",
     "text": [
      "Do you want to add another product? Enter yes or no: yes\n",
      "Enter the product you want to add: hat\n",
      "Do you want to add yet another product? Enter yes or no: no\n"
     ]
    }
   ],
   "source": [
    "another_product = input(\"Do you want to add another product? Enter yes or no: \")\n",
    "while another_product == \"yes\":\n",
    "    customer_orders.add(input(f\"Enter the product you want to add: \"))\n",
    "    another_product = input(\"Do you want to add yet another product? Enter yes or no: \")"
   ]
  },
  {
   "cell_type": "code",
   "execution_count": 22,
   "id": "8c774cef",
   "metadata": {},
   "outputs": [
    {
     "data": {
      "text/plain": [
       "{'book', 'hat', 'keychain', 'mug'}"
      ]
     },
     "execution_count": 22,
     "metadata": {},
     "output_type": "execute_result"
    }
   ],
   "source": [
    "customer_orders"
   ]
  },
  {
   "cell_type": "code",
   "execution_count": 23,
   "id": "f9bd6a35",
   "metadata": {},
   "outputs": [],
   "source": [
    "total_products_ordered = len(customer_orders)\n",
    "percentage_of_products_ordered = (total_products_ordered / len(products)) * 100\n",
    "order_status = (total_products_ordered, percentage_of_products_ordered)"
   ]
  },
  {
   "cell_type": "code",
   "execution_count": 24,
   "id": "d6631bfc",
   "metadata": {},
   "outputs": [
    {
     "name": "stdout",
     "output_type": "stream",
     "text": [
      "Order Statistics:\n",
      "Total Products Ordered: 4\n",
      "Percentage of Products Ordered: 80.0\n"
     ]
    }
   ],
   "source": [
    "print(\"Order Statistics:\")\n",
    "print(\"Total Products Ordered:\", total_products_ordered)\n",
    "print(\"Percentage of Products Ordered:\", percentage_of_products_ordered)"
   ]
  },
  {
   "cell_type": "code",
   "execution_count": 25,
   "id": "2273a00f",
   "metadata": {},
   "outputs": [],
   "source": [
    "list_customer_orders = list(customer_orders)\n",
    "for product in list_customer_orders:\n",
    "    inventory[product] -= 1"
   ]
  },
  {
   "cell_type": "code",
   "execution_count": 26,
   "id": "e45a49f9",
   "metadata": {},
   "outputs": [
    {
     "data": {
      "text/plain": [
       "{'t-shirt': 50, 'mug': 49, 'hat': 49, 'book': 49, 'keychain': 49}"
      ]
     },
     "execution_count": 26,
     "metadata": {},
     "output_type": "execute_result"
    }
   ],
   "source": [
    "inventory"
   ]
  },
  {
   "cell_type": "code",
   "execution_count": 27,
   "id": "1699baec",
   "metadata": {},
   "outputs": [
    {
     "name": "stdout",
     "output_type": "stream",
     "text": [
      "('t-shirt', 50)\n",
      "('mug', 49)\n",
      "('hat', 49)\n",
      "('book', 49)\n",
      "('keychain', 49)\n"
     ]
    }
   ],
   "source": [
    "print(*inventory.items(), sep='\\n')\n",
    "# * is the unpacking operator in Python (it unpacks the items from the dictionary).\n",
    "# \\n' specifies that the separator between the items should be a newline character.\n",
    "# So this code prints each key-value pair of the inventory dictionary on separate lines."
   ]
  }
 ],
 "metadata": {
  "kernelspec": {
   "display_name": "Python 3 (ipykernel)",
   "language": "python",
   "name": "python3"
  },
  "language_info": {
   "codemirror_mode": {
    "name": "ipython",
    "version": 3
   },
   "file_extension": ".py",
   "mimetype": "text/x-python",
   "name": "python",
   "nbconvert_exporter": "python",
   "pygments_lexer": "ipython3",
   "version": "3.11.7"
  }
 },
 "nbformat": 4,
 "nbformat_minor": 5
}
